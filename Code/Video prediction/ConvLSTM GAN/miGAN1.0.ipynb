{
 "cells": [
  {
   "cell_type": "markdown",
   "metadata": {},
   "source": [
    "# Initial MIGAN"
   ]
  },
  {
   "cell_type": "code",
   "execution_count": 1,
   "metadata": {},
   "outputs": [],
   "source": [
    "from __future__ import print_function, division\n",
    "\n",
    "\n",
    "from keras.datasets import mnist\n",
    "from keras.layers import Input, Dense, Reshape, Flatten, Dropout\n",
    "from keras.layers import BatchNormalization, Activation, ZeroPadding2D\n",
    "from keras.layers.advanced_activations import LeakyReLU\n",
    "from keras.layers.convolutional import UpSampling2D, Conv2D\n",
    "from keras.models import Sequential, Model\n",
    "from keras.optimizers import Adam\n",
    "\n",
    "import tensorflow as tf\n",
    "\n",
    "import matplotlib.pyplot as plt\n",
    "\n",
    "import sys\n",
    "\n",
    "import numpy as np\n",
    "\n"
   ]
  },
  {
   "cell_type": "code",
   "execution_count": 2,
   "metadata": {},
   "outputs": [],
   "source": [
    "class GAN():\n",
    "    def __init__(self):\n",
    "        self.img_rows = 64 #28\n",
    "        self.img_cols = 64 #28\n",
    "        self.channels = 3 #1\n",
    "        self.img_shape = (self.img_rows, self.img_cols, self.channels)\n",
    "        self.latent_dim = 100\n",
    "\n",
    "        optimizer = Adam(0.0002, 0.5)\n",
    "\n",
    "        # Build and compile the discriminator\n",
    "        self.discriminator = self.build_discriminator()\n",
    "        self.discriminator.compile(loss='binary_crossentropy',\n",
    "            optimizer=optimizer,\n",
    "            metrics=['accuracy'])\n",
    "\n",
    "        # Build the generator\n",
    "        self.generator = self.build_generator()\n",
    "\n",
    "        # The generator takes x_train as input and generates imgs\n",
    "        sta_imgs = Input(shape=(self.img_shape))\n",
    "        gen_imgs = self.generator(sta_imgs)\n",
    "\n",
    "        # For the combined model we will only train the generator\n",
    "        self.discriminator.trainable = False\n",
    "\n",
    "        # The discriminator takes generated images as input and determines validity\n",
    "        validity = self.discriminator(gen_imgs)\n",
    "\n",
    "        # The combined model  (stacked generator and discriminator)\n",
    "        # Trains the generator to fool the discriminator\n",
    "        self.combined = Model(sta_imgs, validity)\n",
    "        self.combined.compile(loss='binary_crossentropy', optimizer=optimizer)\n",
    "        \n",
    "        # For training, we will compare the sample consecutive frames with the generated frames\n",
    "#         self.sample_frame =self.train.\n",
    "\n",
    "\n",
    "    def build_generator(self):\n",
    "\n",
    "        model = Sequential()\n",
    "\n",
    "        model.add(Flatten(input_shape=self.img_shape))\n",
    "        model.add(Dense(512))\n",
    "        model.add(LeakyReLU(alpha=0.2))\n",
    "        model.add(Dense(256))\n",
    "        model.add(LeakyReLU(alpha=0.2))\n",
    "        model.add(BatchNormalization(momentum=0.8))\n",
    "        model.add(Dense(512))\n",
    "        model.add(LeakyReLU(alpha=0.2))\n",
    "        model.add(BatchNormalization(momentum=0.8))\n",
    "        model.add(Dense(np.prod(self.img_shape), activation='tanh'))\n",
    "        model.add(Reshape(self.img_shape))\n",
    "\n",
    "        model.summary()\n",
    "\n",
    "        sta_imgs = Input(shape=(self.img_shape))\n",
    "        gen_imgs = model(sta_imgs)\n",
    "\n",
    "        return Model(sta_imgs, gen_imgs)\n",
    "\n",
    "    def build_discriminator(self):\n",
    "\n",
    "        model = Sequential()\n",
    "\n",
    "        model.add(Flatten(input_shape=self.img_shape))\n",
    "        model.add(Dense(512))\n",
    "        model.add(LeakyReLU(alpha=0.2))\n",
    "        model.add(Dense(256))\n",
    "        model.add(LeakyReLU(alpha=0.2))\n",
    "        model.add(Dense(1, activation='sigmoid'))\n",
    "        \n",
    "        \n",
    "        model.summary()\n",
    "\n",
    "        sam_imgs = Input(shape=self.img_shape)\n",
    "        validity = model(sam_imgs)\n",
    "\n",
    "        return Model(sam_imgs, validity)\n",
    "\n",
    "    def train(self, epochs, batch_size=32 , sample_interval=30):\n",
    "\n",
    "        # Cut and load the dataset to shape (60000,64,64,3)\n",
    "        data = np.load(\"mnist_test_seq.npy\")\n",
    "        cframe1 = data[0:3]\n",
    "        cframe2 = data[3:6] \n",
    "        cframe3 = data[6:9]\n",
    "        cframe4 = data[9:12]\n",
    "        cframe5 = data[12:15]\n",
    "        cframe6 = data[15:18]\n",
    "        cframes = np.concatenate((cframe1,cframe2,cframe3,cframe4,cframe5,cframe6),axis=1)\n",
    "        Y_train = cframes.transpose(1,2,3,0)\n",
    "\n",
    "        # Rescale -1 to 1\n",
    "        Y_train = Y_train / 127.5 - 1.\n",
    "        \n",
    "\n",
    "        # Adversarial ground truths\n",
    "        valid = np.ones((batch_size, 1))\n",
    "        fake = np.zeros((batch_size, 1))\n",
    "\n",
    "        for epoch in range(epochs):\n",
    "\n",
    "            # ---------------------\n",
    "            #  Train Discriminator\n",
    "            # ---------------------\n",
    "\n",
    "            # Select a random batch of images\n",
    "            idx = np.random.randint(0, Y_train.shape[0], batch_size) \n",
    "            sam_imgs = Y_train[idx] #For Y_train\n",
    "            \n",
    "            X_train = np.expand_dims(Y_train[:,:,:,0], axis=3) #For X_train\n",
    "            X_train = np.concatenate((X_train,X_train,X_train),axis=3)\n",
    "            sta_imgs = X_train[idx]\n",
    "            \n",
    "            # Generate a batch of new images\n",
    "            gen_imgs = self.generator.predict(sta_imgs)\n",
    "\n",
    "            # Train the discriminator\n",
    "            d_loss_real = self.discriminator.train_on_batch(sam_imgs, valid)\n",
    "            d_loss_fake = self.discriminator.train_on_batch(gen_imgs, fake)\n",
    "            d_loss = 0.5 * np.add(d_loss_real, d_loss_fake)\n",
    "\n",
    "            # ---------------------\n",
    "            #  Train Generator\n",
    "            # ---------------------\n",
    "\n",
    "            # Train the generator (to have the discriminator label samples as valid)\n",
    "            g_loss = self.combined.train_on_batch(sta_imgs, valid)\n",
    "\n",
    "            # Plot the progress\n",
    "            print (\"%d [D loss: %f, acc.: %.2f%%] [G loss: %f]\" % (epoch, d_loss[0], 100*d_loss[1], g_loss))\n",
    "\n",
    "            # If at save interval => save generated image samples\n",
    "            if epoch % sample_interval == 0:\n",
    "                self.sample_images(epoch)\n",
    "\n",
    "\n",
    "    def sample_images(self, epoch):\n",
    "        # Load data\n",
    "        data = np.load(\"mnist_test_seq.npy\")\n",
    "        cframe1 = data[0:3]\n",
    "        cframe2 = data[3:6] \n",
    "        cframe3 = data[6:9]\n",
    "        cframe4 = data[9:12]\n",
    "        cframe5 = data[12:15]\n",
    "        cframe6 = data[15:18]\n",
    "        cframes = np.concatenate((cframe1,cframe2,cframe3,cframe4,cframe5,cframe6),axis=1)\n",
    "        Y_train = cframes.transpose(1,2,3,0)\n",
    "        \n",
    "        X_train = np.expand_dims(Y_train[:,:,:,0], axis=3) \n",
    "        X_train = np.concatenate((X_train,X_train,X_train),axis=3)\n",
    "        \n",
    "        idx = np.random.randint(0, Y_train.shape[0], 32)\n",
    "        sta_imgs = X_train[idx]\n",
    "        gen_imgs = self.generator.predict(sta_imgs)\n",
    "        sam_imgs = Y_train[idx]\n",
    "\n",
    "        # Rescale images 0 - 1\n",
    "        gen_imgs = 0.5 * gen_imgs + 0.5\n",
    "        sam_imgs = 0.5 * sam_imgs + 0.5\n",
    "        \n",
    "        # Plot images\n",
    "\n",
    "        fig = plt.figure()\n",
    "        row1 = plt.subplot(2,3,1)\n",
    "        plt.imshow(sam_imgs[0,:,:,0], cmap='gray')\n",
    "        row1.title.set_text(\"Real sequence\")\n",
    "        plt.axis(\"off\")\n",
    "        plt.subplot(2,3,2)\n",
    "        plt.imshow(sam_imgs[0,:,:,1], cmap='gray')\n",
    "        plt.axis(\"off\")\n",
    "        plt.subplot(2,3,3)\n",
    "        plt.imshow(sam_imgs[0,:,:,2], cmap='gray')\n",
    "        plt.axis(\"off\")\n",
    "\n",
    "        row2 = plt.subplot(2,3,4)\n",
    "        plt.imshow(gen_imgs[0,:,:,0], cmap='gray')\n",
    "        row2.title.set_text(\"Generated sequence\")\n",
    "        plt.axis(\"off\")\n",
    "        plt.subplot(2,3,5)\n",
    "        plt.imshow(gen_imgs[0,:,:,1], cmap='gray')\n",
    "        plt.axis(\"off\")\n",
    "        plt.subplot(2,3,6)\n",
    "        plt.imshow(gen_imgs[0,:,:,2], cmap='gray')\n",
    "        plt.axis(\"off\")\n",
    "        \n",
    "        fig.savefig(\"Moving_MNIST/%d.png\" % epoch)\n",
    "        plt.close()\n",
    "\n",
    "\n",
    "# if __name__ == '__main__':\n",
    "#     gan = GAN()\n",
    "#     gan.train(epochs=50000, batch_size=32, sample_interval=20)"
   ]
  },
  {
   "cell_type": "code",
   "execution_count": 23,
   "metadata": {},
   "outputs": [
    {
     "data": {
      "text/plain": [
       "(60000, 28, 28)"
      ]
     },
     "execution_count": 23,
     "metadata": {},
     "output_type": "execute_result"
    },
    {
     "data": {
      "image/png": "[encoded data removed]",
      "text/plain": [
       "<Figure size 432x288 with 1 Axes>"
      ]
     },
     "metadata": {
      "needs_background": "light"
     },
     "output_type": "display_data"
    }
   ],
   "source": [
    "(X_train, _), (_, _) = mnist.load_data()\n",
    "X_train = X_train / 127.5 - 1\n",
    "plt.imshow(X_train[0,:,:], cmap=\"gray\")\n",
    "\n",
    "X_train.shape"
   ]
  },
  {
   "cell_type": "code",
   "execution_count": 14,
   "metadata": {},
   "outputs": [
    {
     "name": "stdout",
     "output_type": "stream",
     "text": [
      "(60000, 64, 64, 3)\n"
     ]
    },
    {
     "data": {
      "text/plain": [
       "<function matplotlib.pyplot.show(*args, **kw)>"
      ]
     },
     "execution_count": 14,
     "metadata": {},
     "output_type": "execute_result"
    },
    {
     "data": {
      "image/png": "[encoded data removed]",
      "text/plain": [
       "<Figure size 432x288 with 3 Axes>"
      ]
     },
     "metadata": {
      "needs_background": "light"
     },
     "output_type": "display_data"
    }
   ],
   "source": [
    "#plot sample images\n",
    "\n",
    "#load data\n",
    "data = np.load(\"mnist_test_seq.npy\")\n",
    "cframe1 = data[0:3]\n",
    "cframe2 = data[3:6] \n",
    "cframe3 = data[6:9]\n",
    "cframe4 = data[9:12]\n",
    "cframe5 = data[12:15]\n",
    "cframe6 = data[15:18]\n",
    "cframes = np.concatenate((cframe1,cframe2,cframe3,cframe4,cframe5,cframe6),axis=1)\n",
    "Y_train = cframes.transpose(1,2,3,0)\n",
    "print(Y_train.shape)\n",
    "\n",
    "    \n",
    "idx = np.random.randint(0, Y_train.shape[0])\n",
    "sam_imgs = Y_train[idx]\n",
    "\n",
    "\n",
    "fig = plt.figure()\n",
    "plt.subplot(1,3,1)\n",
    "plt.imshow(sam_imgs[:,:,0], cmap='gray')\n",
    "plt.axis(\"off\")\n",
    "plt.subplot(1,3,2)\n",
    "plt.imshow(sam_imgs[:,:,1], cmap='gray')\n",
    "plt.axis(\"off\")\n",
    "plt.subplot(1,3,3)\n",
    "plt.imshow(sam_imgs[:,:,2], cmap='gray')\n",
    "plt.axis(\"off\")\n",
    "\n",
    "plt.show\n",
    "# fig.savefig(\"1.png\")\n",
    "# plt.close()\n"
   ]
  },
  {
   "cell_type": "code",
   "execution_count": 16,
   "metadata": {},
   "outputs": [
    {
     "data": {
      "text/plain": [
       "<function matplotlib.pyplot.show(*args, **kw)>"
      ]
     },
     "execution_count": 16,
     "metadata": {},
     "output_type": "execute_result"
    },
    {
     "data": {
      "image/png": "[encoded data removed]",
      "text/plain": [
       "<Figure size 432x288 with 3 Axes>"
      ]
     },
     "metadata": {
      "needs_background": "light"
     },
     "output_type": "display_data"
    }
   ],
   "source": [
    "X_train = np.expand_dims(Y_train[:,:,:,1], axis=3)\n",
    "X_train = np.concatenate((X_train,X_train,X_train),axis=3)\n",
    "X_train.shape\n",
    "\n",
    "idx = np.random.randint(0, X_train.shape[0])\n",
    "sta_imgs = X_train[idx]\n",
    "\n",
    "plt.subplot(1,3,1)\n",
    "plt.imshow(sta_imgs[:,:,0], cmap='gray')\n",
    "plt.axis(\"off\")\n",
    "plt.subplot(1,3,2)\n",
    "plt.imshow(sta_imgs[:,:,1], cmap='gray')\n",
    "plt.axis(\"off\")\n",
    "plt.subplot(1,3,3)\n",
    "plt.imshow(sta_imgs[:,:,2], cmap='gray')\n",
    "plt.axis(\"off\")\n",
    "\n",
    "\n",
    "plt.show\n"
   ]
  },
  {
   "cell_type": "code",
   "execution_count": 22,
   "metadata": {},
   "outputs": [
    {
     "data": {
      "text/plain": [
       "<function matplotlib.pyplot.show(*args, **kw)>"
      ]
     },
     "execution_count": 22,
     "metadata": {},
     "output_type": "execute_result"
    },
    {
     "data": {
      "image/png": "[encoded data removed]",
      "text/plain": [
       "<Figure size 432x288 with 6 Axes>"
      ]
     },
     "metadata": {
      "needs_background": "light"
     },
     "output_type": "display_data"
    }
   ],
   "source": [
    "Y_train = np.concatenate((data[0:3],data[3:6],data[6:9],data[9:12],data[12:15],data[15:18]),axis=1).transpose(1,2,3,0)\n",
    "idx = np.random.randint(0, Y_train.shape[0], 32) \n",
    "sam_imgs = Y_train[idx] #For Y_train\n",
    "\n",
    "X_train = np.expand_dims(Y_train[:,:,:,1], axis=3) #For X_train\n",
    "X_train = np.concatenate((X_train,X_train,X_train),axis=3)\n",
    "sta_imgs = X_train[idx]\n",
    "\n",
    "\n",
    "\n",
    "fig = plt.figure()\n",
    "row1 = plt.subplot(2,3,1)\n",
    "plt.imshow(sam_imgs[0,:,:,0], cmap='gray')\n",
    "row1.title.set_text(\"Real sequence\")\n",
    "plt.axis(\"off\")\n",
    "plt.subplot(2,3,2)\n",
    "plt.imshow(sam_imgs[0,:,:,1], cmap='gray')\n",
    "plt.axis(\"off\")\n",
    "plt.subplot(2,3,3)\n",
    "plt.imshow(sam_imgs[0,:,:,2], cmap='gray')\n",
    "plt.axis(\"off\")\n",
    "\n",
    "row2 = plt.subplot(2,3,4)\n",
    "plt.imshow(sta_imgs[0,:,:,0], cmap='gray')\n",
    "row2.title.set_text(\"Static sequence\")\n",
    "plt.axis(\"off\")\n",
    "plt.subplot(2,3,5)\n",
    "plt.imshow(sta_imgs[0,:,:,1], cmap='gray')\n",
    "plt.axis(\"off\")\n",
    "plt.subplot(2,3,6)\n",
    "plt.imshow(sta_imgs[0,:,:,2], cmap='gray')\n",
    "plt.axis(\"off\")\n",
    "\n",
    "plt.show"
   ]
  }
 ],
 "metadata": {
  "kernelspec": {
   "display_name": "Python 3",
   "language": "python",
   "name": "python3"
  },
  "language_info": {
   "codemirror_mode": {
    "name": "ipython",
    "version": 3
   },
   "file_extension": ".py",
   "mimetype": "text/x-python",
   "name": "python",
   "nbconvert_exporter": "python",
   "pygments_lexer": "ipython3",
   "version": "3.7.6"
  }
 },
 "nbformat": 4,
 "nbformat_minor": 4
}
