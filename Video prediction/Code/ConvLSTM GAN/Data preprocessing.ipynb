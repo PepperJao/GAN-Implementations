{
 "cells": [
  {
   "cell_type": "code",
   "execution_count": 2,
   "metadata": {},
   "outputs": [],
   "source": [
    "from __future__ import print_function, division\n",
    "\n",
    "\n",
    "from keras.datasets import mnist\n",
    "from keras.layers import Input, Dense, Reshape, Flatten, Dropout\n",
    "from keras.layers import BatchNormalization, Activation, ZeroPadding2D\n",
    "from keras.layers.advanced_activations import LeakyReLU\n",
    "from keras.layers.convolutional import UpSampling2D, Conv2D\n",
    "from keras.models import Sequential, Model\n",
    "from keras.optimizers import Adam\n",
    "from keras.preprocessing import sequence\n",
    "\n",
    "import tensorflow as tf\n",
    "\n",
    "import matplotlib.pyplot as plt\n",
    "\n",
    "import sys\n",
    "\n",
    "import numpy as np\n",
    "\n"
   ]
  },
  {
   "cell_type": "code",
   "execution_count": 7,
   "metadata": {},
   "outputs": [
    {
     "data": {
      "text/plain": [
       "((1, 60000, 64, 64, 3), (60000, 64, 64, 3), (64, 64))"
      ]
     },
     "execution_count": 7,
     "metadata": {},
     "output_type": "execute_result"
    }
   ],
   "source": [
    "data = np.load(\"mnist_test_seq.npy\")\n",
    "cframe1 = data[0:3]\n",
    "cframe2 = data[3:6] \n",
    "cframe3 = data[6:9]\n",
    "cframe4 = data[9:12]\n",
    "cframe5 = data[12:15]\n",
    "cframe6 = data[15:18]\n",
    "cframes = np.concatenate((cframe1,cframe2,cframe3,cframe4,cframe5,cframe6),axis=1).transpose(1,2,3,0)\n",
    "Y_train = cframes\n",
    "\n",
    "# Rescale -1 to 1\n",
    "Y_train = Y_train / 127.5 - 1.\n",
    "Y_train = np.expand_dims(Y_train, axis=0)\n",
    "Y_train.shape\n",
    "\n",
    "Y_train.shape, Y_train[0].shape, Y_train[0][0,:,:,0].shape"
   ]
  },
  {
   "cell_type": "code",
   "execution_count": 8,
   "metadata": {},
   "outputs": [
    {
     "name": "stdout",
     "output_type": "stream",
     "text": [
      "(60000, 28, 28)\n",
      "(60000, 28, 28)\n"
     ]
    },
    {
     "data": {
      "text/plain": [
       "(60000, 28, 28, 1)"
      ]
     },
     "execution_count": 8,
     "metadata": {},
     "output_type": "execute_result"
    }
   ],
   "source": [
    "(X_train, _), (_, _) = mnist.load_data()\n",
    "print(X_train.shape)\n",
    "# Rescale -1 to 1\n",
    "X_train = X_train / 127.5 - 1.\n",
    "print(X_train.shape)\n",
    "X_train = np.expand_dims(X_train, axis=3)\n",
    "X_train.shape\n"
   ]
  },
  {
   "cell_type": "code",
   "execution_count": 26,
   "metadata": {},
   "outputs": [
    {
     "data": {
      "text/plain": [
       "(100, 3, 64, 64)"
      ]
     },
     "execution_count": 26,
     "metadata": {},
     "output_type": "execute_result"
    }
   ],
   "source": [
    "cframe_trans=cframe.swapaxes(0,1)\n",
    "# cframe_trans.shape\n",
    "sub_cframe_trans=cframe_trans[:100,:,:,:]\n",
    "sub_cframe_trans.shape"
   ]
  },
  {
   "cell_type": "code",
   "execution_count": 32,
   "metadata": {},
   "outputs": [
    {
     "name": "stdout",
     "output_type": "stream",
     "text": [
      "(20, 10000, 64, 64)\n",
      "data (10000, 20, 64, 64)\n",
      "sub (100, 20, 64, 64, 1)\n"
     ]
    }
   ],
   "source": [
    "from keras.models import Sequential\n",
    "from keras.layers.convolutional import Conv3D\n",
    "from keras.layers.convolutional_recurrent import ConvLSTM2D\n",
    "from keras.layers.normalization import BatchNormalization\n",
    "import numpy as np\n",
    "import matplotlib.pyplot as plt\n",
    "\n",
    "data = np.load('mnist_test_seq.npy')\n",
    "\n",
    "# Define image dimensions and frames to be used for LSTM memory\n",
    "sequence_length = 15 \n",
    "image_height = data.shape[2]\n",
    "image_width = data.shape[3]\n",
    "print(data.shape)\n",
    "\n",
    "# swap frames and observations so [obs, frames, height, width, channels]\n",
    "data = data.swapaxes(0, 1)\n",
    "print(\"data\",data.shape)\n",
    "\n",
    "# only select first 100 observations to reduce memory- and compute requirements\n",
    "sub = data[:100, :, :, :]\n",
    "# add channel dimension (grayscale)\n",
    "sub = np.expand_dims(sub, 4)\n",
    "\n",
    "# normalize to 0, 1\n",
    "#sub = sub / 255\n",
    "sub[sub < 128] = 0\n",
    "sub[sub>= 128] = 1\n",
    "print(\"sub\",sub.shape)\n",
    "\n",
    "\n",
    "# Define network\n",
    "\n",
    "# seq = Sequential()\n",
    "# seq.add(ConvLSTM2D(filters=64, kernel_size=(1,1),\n",
    "#                    input_shape=(None, image_height, image_width, 1), #Will need to change channels to 3 for real images\n",
    "#                    padding='same', return_sequences=True,\n",
    "#                    activation='relu'))\n",
    "# seq.add(BatchNormalization())\n",
    "# seq.add(ConvLSTM2D(filters=64, kernel_size=(2,2),\n",
    "#                    padding='same', return_sequences=True,\n",
    "#                    activation='relu'))\n",
    "# seq.add(BatchNormalization())\n",
    "# seq.add(ConvLSTM2D(filters=64, kernel_size=(1,1),\n",
    "#                    padding='same', return_sequences=True,\n",
    "#                    activation='relu'))\n",
    "# seq.add(BatchNormalization())\n",
    "# seq.add(ConvLSTM2D(filters=64, kernel_size=(2,2),\n",
    "#                    padding='same', return_sequences=True,\n",
    "#                    activation='relu'))\n",
    "# seq.add(BatchNormalization())\n",
    "# seq.add(Conv3D(filters=1, kernel_size=(1,1,1),\n",
    "#                activation='sigmoid',\n",
    "#                padding='same', data_format='channels_last'))\n",
    "# seq.compile(loss='binary_crossentropy', optimizer='adam')\n",
    "\n",
    "\n",
    "# Add helper function for shifting input and output, so previous frame (X_t-1) is used as input to predict next frame (y_t)\n",
    "\n",
    "def shift_data(data, n_frames=15):\n",
    "    X = data[:, 0:n_frames, :, :, :]\n",
    "    y = data[:, 1:(n_frames+1), :, :, :]\n",
    "    \n",
    "    return X, y\n",
    "\n",
    "\n",
    "# Run script\n",
    "\n",
    "# prepare X, y\n",
    "X, y = shift_data(sub, sequence_length)\n",
    "\n",
    "# fit the model\n",
    "seq.fit(X, y, batch_size=16, epochs=100, validation_split=0.05)\n",
    "\n",
    "# select a random observation\n",
    "test_set = np.expand_dims(X[5, :, :, :, :], 0)\n",
    "\n",
    "\n",
    "# compare to ground truth and visualize\n"
   ]
  },
  {
   "cell_type": "code",
   "execution_count": null,
   "metadata": {},
   "outputs": [],
   "source": [
    "for i in range(0, 13):\n",
    "    # create plot\n",
    "    fig = plt.figure(figsize=(10, 5))\n",
    "\n",
    "    # truth\n",
    "    ax = fig.add_subplot(122)\n",
    "    ax.text(1, -3, ('ground truth at time :' + str(i)), fontsize=20, color='b')\n",
    "    toplot_true = test_set[0, i, ::, ::, 0]\n",
    "    plt.imshow(toplot_true)\n",
    "    # predictions\n",
    "    ax = fig.add_subplot(121)\n",
    "    ax.text(1, -3, ('predicted frame at time :' + str(i)), fontsize=20, color='b')\n",
    "    toplot_pred = prediction[0, i+1, ::, ::, 0]\n",
    "\n",
    "    plt.imshow(toplot_pred)\n",
    "    plt.savefig(path + '/%i_image.png' % (i + 1))"
   ]
  },
  {
   "cell_type": "code",
   "execution_count": 43,
   "metadata": {
    "collapsed": true,
    "jupyter": {
     "outputs_hidden": true,
     "source_hidden": true
    }
   },
   "outputs": [
    {
     "data": {
      "text/plain": [
       "(array([[1, 2, 3],\n",
       "        [3, 4, 5],\n",
       "        [4, 5, 6]]),\n",
       " array([[1, 2, 3],\n",
       "        [3, 4, 5],\n",
       "        [4, 5, 6]]),\n",
       " array([[1, 2, 3],\n",
       "        [3, 4, 5],\n",
       "        [4, 5, 6]]),\n",
       " array([[1, 2, 3],\n",
       "        [3, 4, 5],\n",
       "        [4, 5, 6]]),\n",
       " array([[1, 2, 3],\n",
       "        [3, 4, 5],\n",
       "        [4, 5, 6]]),\n",
       " (18, 3),\n",
       " array([[1, 2, 3],\n",
       "        [3, 4, 5],\n",
       "        [4, 5, 6],\n",
       "        [1, 2, 3],\n",
       "        [3, 4, 5],\n",
       "        [4, 5, 6]]),\n",
       " (6, 3))"
      ]
     },
     "execution_count": 43,
     "metadata": {},
     "output_type": "execute_result"
    }
   ],
   "source": [
    "a = np.array([[1,2,3],[3,4,5],[4,5,6],[1,2,3],[3,4,5],[4,5,6],[1,2,3],[3,4,5],[4,5,6],[1,2,3],[3,4,5],[4,5,6],[1,2,3],[3,4,5],[4,5,6],[1,2,3],[3,4,5],[4,5,6]])\n",
    "\n",
    "b=a[0:3]\n",
    "c=a[3:6]\n",
    "d = a[6:9]\n",
    "e = a[9:12]\n",
    "f = a[12:15]\n",
    "g = a[15:18]\n",
    "B=np.concatenate((b,c))\n",
    "b,c,d,e,f,a.shape, B, B.shape"
   ]
  },
  {
   "cell_type": "code",
   "execution_count": 21,
   "metadata": {},
   "outputs": [
    {
     "name": "stdout",
     "output_type": "stream",
     "text": [
      "x_train shape: (25000, 500)\n",
      "x_test shape: (25000, 500)\n"
     ]
    }
   ],
   "source": [
    "from keras.datasets import mnist\n",
    "from keras.layers import Input, Dense, Reshape, Flatten, Dropout\n",
    "from keras.layers import BatchNormalization, Activation, ZeroPadding2D\n",
    "from keras.layers.advanced_activations import LeakyReLU\n",
    "from keras.layers.convolutional import UpSampling2D, Conv2D\n",
    "from keras.models import Sequential, Model\n",
    "from keras.optimizers import Adam\n",
    "\n",
    "\n",
    "import matplotlib.pyplot as plt\n",
    "\n",
    "import sys\n",
    "\n",
    "import numpy as np\n",
    "\n",
    "\n",
    "(X_train, _), (_, _) = mnist.load_data()\n",
    "print('x_train shape:', x_train.shape)\n",
    "print('x_test shape:', x_test.shape)"
   ]
  }
 ],
 "metadata": {
  "kernelspec": {
   "display_name": "Python 3",
   "language": "python",
   "name": "python3"
  },
  "language_info": {
   "codemirror_mode": {
    "name": "ipython",
    "version": 3
   },
   "file_extension": ".py",
   "mimetype": "text/x-python",
   "name": "python",
   "nbconvert_exporter": "python",
   "pygments_lexer": "ipython3",
   "version": "3.7.6"
  }
 },
 "nbformat": 4,
 "nbformat_minor": 4
}
